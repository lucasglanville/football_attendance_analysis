{
 "cells": [
  {
   "cell_type": "code",
   "execution_count": null,
   "id": "347d9cf7",
   "metadata": {},
   "outputs": [],
   "source": [
    "import requests\n",
    "from bs4 import BeautifulSoup"
   ]
  },
  {
   "cell_type": "markdown",
   "id": "01152307",
   "metadata": {},
   "source": [
    "# First, figure out how to scrape attendance value from specific match details URL"
   ]
  },
  {
   "cell_type": "code",
   "execution_count": 3,
   "id": "f64c4d58",
   "metadata": {},
   "outputs": [],
   "source": [
    "URL = \"https://www.worldfootball.net/report/league-one-2022-2023-bristol-rovers-bolton-wanderers/\"\n",
    "\n",
    "# Fetch the webpage\n",
    "response = requests.get(URL)\n",
    "response.raise_for_status()  # Will raise an exception if there's an error\n",
    "\n",
    "# Parse the content using BeautifulSoup\n",
    "soup = BeautifulSoup(response.content, 'html.parser')"
   ]
  },
  {
   "cell_type": "code",
   "execution_count": 4,
   "id": "f29f0acc",
   "metadata": {},
   "outputs": [
    {
     "name": "stdout",
     "output_type": "stream",
     "text": [
      "Attendance: 10.086\n"
     ]
    }
   ],
   "source": [
    "results = soup.find(id=\"site\").find_all(\"td\", class_=\"dunkel\")\n",
    "\n",
    "attendance_td = None\n",
    "for i, td in enumerate(results):\n",
    "    img = td.find('img', title='Attendance')\n",
    "    if img:\n",
    "        attendance_td = results[i + 1]  # Get the next <td> element after the img\n",
    "        break\n",
    "\n",
    "if attendance_td:\n",
    "    attendance = attendance_td.get_text(strip=True)\n",
    "    print(f\"Attendance: {attendance}\")\n",
    "else:\n",
    "    print(\"Attendance not found.\")"
   ]
  },
  {
   "cell_type": "markdown",
   "id": "f533f993",
   "metadata": {},
   "source": [
    "# Next, scrape attendance values from all matches in specific game week"
   ]
  },
  {
   "cell_type": "code",
   "execution_count": null,
   "id": "a5903e40",
   "metadata": {},
   "outputs": [],
   "source": []
  }
 ],
 "metadata": {
  "kernelspec": {
   "display_name": "Python 3 (ipykernel)",
   "language": "python",
   "name": "python3"
  },
  "language_info": {
   "codemirror_mode": {
    "name": "ipython",
    "version": 3
   },
   "file_extension": ".py",
   "mimetype": "text/x-python",
   "name": "python",
   "nbconvert_exporter": "python",
   "pygments_lexer": "ipython3",
   "version": "3.10.6"
  },
  "toc": {
   "base_numbering": 1,
   "nav_menu": {},
   "number_sections": true,
   "sideBar": true,
   "skip_h1_title": false,
   "title_cell": "Table of Contents",
   "title_sidebar": "Contents",
   "toc_cell": false,
   "toc_position": {},
   "toc_section_display": true,
   "toc_window_display": false
  }
 },
 "nbformat": 4,
 "nbformat_minor": 5
}
