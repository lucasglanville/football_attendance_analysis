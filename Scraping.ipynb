{
 "cells": [
  {
   "cell_type": "code",
   "execution_count": 12,
   "id": "65561578",
   "metadata": {},
   "outputs": [],
   "source": [
    "import requests\n",
    "from bs4 import BeautifulSoup"
   ]
  },
  {
   "cell_type": "markdown",
   "id": "53d0990f",
   "metadata": {},
   "source": [
    "# First, try to scrape attendance value from specific match URL"
   ]
  },
  {
   "cell_type": "code",
   "execution_count": 13,
   "id": "5a73a1fe",
   "metadata": {},
   "outputs": [
    {
     "name": "stdout",
     "output_type": "stream",
     "text": [
      "Fetching data for: https://www.worldfootball.net/report/eerste-klasse-a-2022-2023-krc-genk-sv-zulte-waregem/\n",
      "Attendance: 14.111\n",
      "--------------------\n",
      "Fetching data for: https://www.worldfootball.net/report/league-one-2007-2008-millwall-fc-tranmere-rovers/\n",
      "Attendance: 8.925\n",
      "--------------------\n",
      "Fetching data for: https://www.worldfootball.net/report/league-one-2020-2021-ipswich-town-fleetwood-town/\n",
      "Attendance: without spectators.\n",
      "--------------------\n",
      "Fetching data for: https://www.worldfootball.net/report/first-division-2016-2017-apoel-nikosia-anorthosis-famagusta-fc/\n",
      "Attendance not found.\n",
      "--------------------\n"
     ]
    }
   ],
   "source": [
    "urls = [\n",
    "    \"https://www.worldfootball.net/report/eerste-klasse-a-2022-2023-krc-genk-sv-zulte-waregem/\",\n",
    "    \"https://www.worldfootball.net/report/league-one-2007-2008-millwall-fc-tranmere-rovers/\",\n",
    "    \"https://www.worldfootball.net/report/league-one-2020-2021-ipswich-town-fleetwood-town/\",\n",
    "    \"https://www.worldfootball.net/report/first-division-2016-2017-apoel-nikosia-anorthosis-famagusta-fc/\"\n",
    "]\n",
    "\n",
    "for URL in urls:\n",
    "    print(f\"Fetching data for: {URL}\")\n",
    "\n",
    "    # Fetch the webpage\n",
    "    response = requests.get(URL)\n",
    "    response.raise_for_status()  # Will raise an exception if there's an error\n",
    "\n",
    "    # Parse the content using BeautifulSoup\n",
    "    soup = BeautifulSoup(response.content, 'html.parser')\n",
    "\n",
    "    results = soup.find(id=\"site\").find_all(\"td\", class_=\"dunkel\")\n",
    "\n",
    "    attendance_td = None\n",
    "    for i, td in enumerate(results):\n",
    "        img = td.find('img', title='Attendance')\n",
    "        if img:\n",
    "            attendance_td = results[i + 1]  # Get the next <td> element after the img\n",
    "            break\n",
    "\n",
    "    if attendance_td:\n",
    "        attendance = attendance_td.get_text(strip=True)\n",
    "        print(f\"Attendance: {attendance}\")\n",
    "    else:\n",
    "        print(\"Attendance not found.\")\n",
    "    print(\"--------------------\")  # To separate results for clarity\n"
   ]
  },
  {
   "cell_type": "markdown",
   "id": "870d90de",
   "metadata": {},
   "source": [
    "# Next, try to scrape attendance values from all matches in specific game week"
   ]
  },
  {
   "cell_type": "code",
   "execution_count": null,
   "id": "1a59b4a5",
   "metadata": {},
   "outputs": [],
   "source": []
  }
 ],
 "metadata": {
  "kernelspec": {
   "display_name": "Python 3 (ipykernel)",
   "language": "python",
   "name": "python3"
  },
  "language_info": {
   "codemirror_mode": {
    "name": "ipython",
    "version": 3
   },
   "file_extension": ".py",
   "mimetype": "text/x-python",
   "name": "python",
   "nbconvert_exporter": "python",
   "pygments_lexer": "ipython3",
   "version": "3.10.6"
  },
  "toc": {
   "base_numbering": 1,
   "nav_menu": {},
   "number_sections": true,
   "sideBar": true,
   "skip_h1_title": false,
   "title_cell": "Table of Contents",
   "title_sidebar": "Contents",
   "toc_cell": false,
   "toc_position": {},
   "toc_section_display": true,
   "toc_window_display": false
  }
 },
 "nbformat": 4,
 "nbformat_minor": 5
}
