{
 "cells": [
  {
   "cell_type": "code",
   "execution_count": 1,
   "id": "4e212b79",
   "metadata": {},
   "outputs": [],
   "source": [
    "import requests\n",
    "from bs4 import BeautifulSoup"
   ]
  },
  {
   "cell_type": "markdown",
   "id": "6be57410",
   "metadata": {},
   "source": [
    "# First, try to scrape attendance value from specific match URL"
   ]
  },
  {
   "cell_type": "code",
   "execution_count": 2,
   "id": "0992e7d7",
   "metadata": {},
   "outputs": [
    {
     "name": "stdout",
     "output_type": "stream",
     "text": [
      "Fetching data for: https://www.worldfootball.net/report/eerste-klasse-a-2022-2023-krc-genk-sv-zulte-waregem/\n",
      "Attendance: 14.111\n",
      "--------------------\n",
      "Fetching data for: https://www.worldfootball.net/report/league-one-2007-2008-millwall-fc-tranmere-rovers/\n",
      "Attendance: 8.925\n",
      "--------------------\n",
      "Fetching data for: https://www.worldfootball.net/report/league-one-2020-2021-ipswich-town-fleetwood-town/\n",
      "Attendance: without spectators.\n",
      "--------------------\n",
      "Fetching data for: https://www.worldfootball.net/report/first-division-2016-2017-apoel-nikosia-anorthosis-famagusta-fc/\n",
      "Attendance not found.\n",
      "--------------------\n"
     ]
    }
   ],
   "source": [
    "# These test URLS contain 22/23 Belgium 1st div game, 07/08 English League One game,\n",
    "# 20/21 (covid!) English League One game, 16/17 Cyprus 1st div game\n",
    "\n",
    "urls = [\n",
    "    \"https://www.worldfootball.net/report/eerste-klasse-a-2022-2023-krc-genk-sv-zulte-waregem/\",\n",
    "    \"https://www.worldfootball.net/report/league-one-2007-2008-millwall-fc-tranmere-rovers/\",\n",
    "    \"https://www.worldfootball.net/report/league-one-2020-2021-ipswich-town-fleetwood-town/\",\n",
    "    \"https://www.worldfootball.net/report/first-division-2016-2017-apoel-nikosia-anorthosis-famagusta-fc/\"\n",
    "]\n",
    "\n",
    "# Loop to scrape attendance figures from URL list:\n",
    "\n",
    "for URL in urls:\n",
    "    print(f\"Fetching data for: {URL}\")\n",
    "\n",
    "    # Fetch the webpage\n",
    "    response = requests.get(URL)\n",
    "    response.raise_for_status()  # Will raise an exception if there's an error\n",
    "\n",
    "    # Parse the content using BeautifulSoup\n",
    "    soup = BeautifulSoup(response.content, 'html.parser')\n",
    "\n",
    "    results = soup.find(id=\"site\").find_all(\"td\", class_=\"dunkel\")\n",
    "\n",
    "    attendance_td = None\n",
    "    for i, td in enumerate(results):\n",
    "        img = td.find('img', title='Attendance')\n",
    "        if img:\n",
    "            attendance_td = results[i + 1]  # Get the next <td> element after the img\n",
    "            break\n",
    "\n",
    "    if attendance_td:\n",
    "        attendance = attendance_td.get_text(strip=True)\n",
    "        print(f\"Attendance: {attendance}\")\n",
    "    else:\n",
    "        print(\"Attendance not found.\")\n",
    "    print(\"--------------------\")  # To separate results for clarity\n"
   ]
  },
  {
   "cell_type": "markdown",
   "id": "8016d874",
   "metadata": {},
   "source": [
    "# Next, try to scrape attendance values from all matches in specific game week"
   ]
  },
  {
   "cell_type": "code",
   "execution_count": 3,
   "id": "441444c4",
   "metadata": {
    "scrolled": false
   },
   "outputs": [
    {
     "name": "stdout",
     "output_type": "stream",
     "text": [
      "Fetching data for: https://www.worldfootball.net/report/ligue-2-2018-2019-gfc-ajaccio-us-orleans/\n",
      "Attendance: 2.498\n",
      "--------------------\n",
      "Fetching data for: https://www.worldfootball.net/report/ligue-2-2018-2019-lb-chateauroux-estac-troyes/\n",
      "Attendance: 6.861\n",
      "--------------------\n",
      "Fetching data for: https://www.worldfootball.net/report/ligue-2-2018-2019-grenoble-foot-38-clermont-foot/\n",
      "Attendance: 6.389\n",
      "--------------------\n",
      "Fetching data for: https://www.worldfootball.net/report/ligue-2-2018-2019-le-havre-ac-as-beziers/\n",
      "Attendance: 5.297\n",
      "--------------------\n",
      "Fetching data for: https://www.worldfootball.net/report/ligue-2-2018-2019-fc-lorient-as-nancy/\n",
      "Attendance: 6.952\n",
      "--------------------\n",
      "Fetching data for: https://www.worldfootball.net/report/ligue-2-2018-2019-chamois-niortais-paris-fc/\n",
      "Attendance: 3.397\n",
      "--------------------\n",
      "Fetching data for: https://www.worldfootball.net/report/ligue-2-2018-2019-red-star-fc-ac-ajaccio/\n",
      "Attendance: 1.863\n",
      "--------------------\n",
      "Fetching data for: https://www.worldfootball.net/report/ligue-2-2018-2019-valenciennes-fc-stade-brest/\n",
      "Attendance: 7.557\n",
      "--------------------\n",
      "Fetching data for: https://www.worldfootball.net/report/ligue-2-2018-2019-aj-auxerre-rc-lens/\n",
      "Attendance: 10.404\n",
      "--------------------\n",
      "Fetching data for: https://www.worldfootball.net/report/ligue-2-2018-2019-fc-sochaux-fc-metz/\n",
      "Attendance: 6.865\n",
      "--------------------\n"
     ]
    }
   ],
   "source": [
    "URL = \"https://www.worldfootball.net/schedule/fra-ligue-2-2018-2019-spieltag/10/\"\n",
    "\n",
    "# Fetch the webpage\n",
    "response = requests.get(URL)\n",
    "response.raise_for_status()  # Will raise an exception if there's an error\n",
    "\n",
    "# Parse the content using BeautifulSoup\n",
    "soup = BeautifulSoup(response.content, 'html.parser')\n",
    "results = soup.find(id=\"site\").find_all('td', align='center')\n",
    "\n",
    "urls = []\n",
    "\n",
    "base_url = \"https://www.worldfootball.net\"\n",
    "\n",
    "for td in results:\n",
    "    a_tag = td.find('a', href=True)\n",
    "    if a_tag and 'report' in a_tag['href']:\n",
    "        URL = base_url + a_tag['href']\n",
    "        urls.append(URL)\n",
    "\n",
    "for URL in urls:\n",
    "    print(f\"Fetching data for: {URL}\")\n",
    "\n",
    "    # Fetch the webpage\n",
    "    response = requests.get(URL)\n",
    "    response.raise_for_status()  # Will raise an exception if there's an error\n",
    "\n",
    "    # Parse the content using BeautifulSoup\n",
    "    soup = BeautifulSoup(response.content, 'html.parser')\n",
    "\n",
    "    results = soup.find(id=\"site\").find_all(\"td\", class_=\"dunkel\")\n",
    "\n",
    "    attendance_td = None\n",
    "    for i, td in enumerate(results):\n",
    "        img = td.find('img', title='Attendance')\n",
    "        if img:\n",
    "            attendance_td = results[i + 1]  # Get the next <td> element after the img\n",
    "            break\n",
    "\n",
    "    if attendance_td:\n",
    "        attendance = attendance_td.get_text(strip=True)\n",
    "        print(f\"Attendance: {attendance}\")\n",
    "    else:\n",
    "        print(\"Attendance not found.\")\n",
    "    print(\"--------------------\")  # To separate results for clarity"
   ]
  },
  {
   "cell_type": "code",
   "execution_count": null,
   "id": "46c53b47",
   "metadata": {},
   "outputs": [],
   "source": []
  }
 ],
 "metadata": {
  "kernelspec": {
   "display_name": "Python 3 (ipykernel)",
   "language": "python",
   "name": "python3"
  },
  "language_info": {
   "codemirror_mode": {
    "name": "ipython",
    "version": 3
   },
   "file_extension": ".py",
   "mimetype": "text/x-python",
   "name": "python",
   "nbconvert_exporter": "python",
   "pygments_lexer": "ipython3",
   "version": "3.10.6"
  },
  "toc": {
   "base_numbering": 1,
   "nav_menu": {},
   "number_sections": true,
   "sideBar": true,
   "skip_h1_title": false,
   "title_cell": "Table of Contents",
   "title_sidebar": "Contents",
   "toc_cell": false,
   "toc_position": {},
   "toc_section_display": true,
   "toc_window_display": false
  }
 },
 "nbformat": 4,
 "nbformat_minor": 5
}
